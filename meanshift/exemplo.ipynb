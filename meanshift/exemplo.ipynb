{
 "cells": [
  {
   "cell_type": "code",
   "execution_count": 1,
   "outputs": [],
   "source": [
    "import numpy as np\n",
    "\n",
    "\n",
    "import warnings\n",
    "\n",
    "warnings.filterwarnings('ignore')"
   ],
   "metadata": {
    "collapsed": false,
    "ExecuteTime": {
     "end_time": "2024-01-11T23:00:03.993264194Z",
     "start_time": "2024-01-11T23:00:03.983821200Z"
    }
   }
  },
  {
   "cell_type": "code",
   "execution_count": 2,
   "outputs": [],
   "source": [
    "\n",
    "PATH_IMAGENS = '../dataset/lamina/4_divisao_deixar_apenas_uma_imagem_por_campo_de_lamina_SEM_ERROS/Negativo/'\n",
    "PATH_MASK = '../dataset/labelMe/collection/masks-geral/'\n",
    "PATH_INDIVIDUAL = '../dataset/labelMe/collection/masks-individual/'\n"
   ],
   "metadata": {
    "collapsed": false,
    "ExecuteTime": {
     "end_time": "2024-01-11T23:00:04.990407392Z",
     "start_time": "2024-01-11T23:00:04.986598502Z"
    }
   }
  },
  {
   "cell_type": "code",
   "execution_count": 3,
   "outputs": [
    {
     "name": "stdout",
     "output_type": "stream",
     "text": [
      "Total de Imagens:  72\n"
     ]
    },
    {
     "name": "stderr",
     "output_type": "stream",
     "text": [
      "  0%|          | 0/72 [00:00<?, ?it/s]"
     ]
    },
    {
     "name": "stdout",
     "output_type": "stream",
     "text": [
      "shape (1068, 761)\n"
     ]
    },
    {
     "name": "stderr",
     "output_type": "stream",
     "text": [
      "\n"
     ]
    },
    {
     "ename": "IndexError",
     "evalue": "There are only 0 images in the collection",
     "output_type": "error",
     "traceback": [
      "\u001B[0;31m---------------------------------------------------------------------------\u001B[0m",
      "\u001B[0;31mIndexError\u001B[0m                                Traceback (most recent call last)",
      "Cell \u001B[0;32mIn[3], line 3\u001B[0m\n\u001B[1;32m      1\u001B[0m \u001B[38;5;28;01mfrom\u001B[39;00m \u001B[38;5;21;01mdata_load\u001B[39;00m \u001B[38;5;28;01mimport\u001B[39;00m load_crop_images\n\u001B[0;32m----> 3\u001B[0m dataset \u001B[38;5;241m=\u001B[39m load_crop_images(PATH_IMAGENS,\n\u001B[1;32m      4\u001B[0m                            PATH_MASK,\n\u001B[1;32m      5\u001B[0m                            PATH_INDIVIDUAL)\n",
      "File \u001B[0;32m~/Documentos/mestrado/visao/atividades/05 agrupamento/meanshift/data_load.py:329\u001B[0m, in \u001B[0;36mload_crop_images\u001B[0;34m(PATH_IMAGENS_, PATH_MASK_, PATH_INDIVIDUAL_, IMG_ALTURA_, IMG_LARGURA_, IMG_CANAIS_, PROPORCAO_MIN_)\u001B[0m\n\u001B[1;32m    326\u001B[0m mascaras \u001B[38;5;241m=\u001B[39m ler_mascaras(id_)\n\u001B[1;32m    328\u001B[0m \u001B[38;5;66;03m# Retorna labels de todas as mascaras\u001B[39;00m\n\u001B[0;32m--> 329\u001B[0m label_mask \u001B[38;5;241m=\u001B[39m retorna_todos_labels(mascaras)\n\u001B[1;32m    331\u001B[0m \u001B[38;5;66;03m# Define área mínima para excluir intersecções entre os labels\u001B[39;00m\n\u001B[1;32m    332\u001B[0m \u001B[38;5;66;03m# Devido a sobreposição de labels, algumas áreas tem o tamanho reduzido\u001B[39;00m\n\u001B[1;32m    333\u001B[0m \u001B[38;5;66;03m# Só considera amastigotas reduzidas até 50% da menor amastigota da máscara inteira\u001B[39;00m\n\u001B[1;32m    334\u001B[0m \u001B[38;5;66;03m# Cheguei a 0.5 após testes em todas as imagens\u001B[39;00m\n\u001B[1;32m    335\u001B[0m area_minima \u001B[38;5;241m=\u001B[39m \u001B[38;5;28mint\u001B[39m(\u001B[38;5;28mmin\u001B[39m(region_area) \u001B[38;5;241m*\u001B[39m \u001B[38;5;241m0.50\u001B[39m)\n",
      "File \u001B[0;32m~/Documentos/mestrado/visao/atividades/05 agrupamento/meanshift/data_load.py:56\u001B[0m, in \u001B[0;36mretorna_todos_labels\u001B[0;34m(mascaras)\u001B[0m\n\u001B[1;32m     54\u001B[0m \u001B[38;5;28;01mdef\u001B[39;00m \u001B[38;5;21mretorna_todos_labels\u001B[39m(mascaras):\n\u001B[1;32m     55\u001B[0m     \u001B[38;5;66;03m# Tamanho da região para a primeira máscara da imagem\u001B[39;00m\n\u001B[0;32m---> 56\u001B[0m     label_mask \u001B[38;5;241m=\u001B[39m label(mascaras[\u001B[38;5;241m0\u001B[39m])\n\u001B[1;32m     57\u001B[0m     region \u001B[38;5;241m=\u001B[39m regionprops(label_mask)[\u001B[38;5;241m0\u001B[39m]  \u001B[38;5;66;03m# Pega a região da mascara\u001B[39;00m\n\u001B[1;32m     58\u001B[0m     region_area\u001B[38;5;241m.\u001B[39mappend(region\u001B[38;5;241m.\u001B[39marea)\n",
      "File \u001B[0;32m~/anaconda3/lib/python3.11/site-packages/skimage/io/collection.py:294\u001B[0m, in \u001B[0;36mImageCollection.__getitem__\u001B[0;34m(self, n)\u001B[0m\n\u001B[1;32m    291\u001B[0m     \u001B[38;5;28;01mraise\u001B[39;00m \u001B[38;5;167;01mTypeError\u001B[39;00m(\u001B[38;5;124m'\u001B[39m\u001B[38;5;124mslicing must be with an int or slice object\u001B[39m\u001B[38;5;124m'\u001B[39m)\n\u001B[1;32m    293\u001B[0m \u001B[38;5;28;01mif\u001B[39;00m \u001B[38;5;28mtype\u001B[39m(n) \u001B[38;5;129;01mis\u001B[39;00m \u001B[38;5;28mint\u001B[39m:\n\u001B[0;32m--> 294\u001B[0m     n \u001B[38;5;241m=\u001B[39m \u001B[38;5;28mself\u001B[39m\u001B[38;5;241m.\u001B[39m_check_imgnum(n)\n\u001B[1;32m    295\u001B[0m     idx \u001B[38;5;241m=\u001B[39m n \u001B[38;5;241m%\u001B[39m \u001B[38;5;28mlen\u001B[39m(\u001B[38;5;28mself\u001B[39m\u001B[38;5;241m.\u001B[39mdata)\n\u001B[1;32m    297\u001B[0m     \u001B[38;5;28;01mif\u001B[39;00m ((\u001B[38;5;28mself\u001B[39m\u001B[38;5;241m.\u001B[39mconserve_memory \u001B[38;5;129;01mand\u001B[39;00m n \u001B[38;5;241m!=\u001B[39m \u001B[38;5;28mself\u001B[39m\u001B[38;5;241m.\u001B[39m_cached) \u001B[38;5;129;01mor\u001B[39;00m\n\u001B[1;32m    298\u001B[0m             (\u001B[38;5;28mself\u001B[39m\u001B[38;5;241m.\u001B[39mdata[idx] \u001B[38;5;129;01mis\u001B[39;00m \u001B[38;5;28;01mNone\u001B[39;00m)):\n",
      "File \u001B[0;32m~/anaconda3/lib/python3.11/site-packages/skimage/io/collection.py:350\u001B[0m, in \u001B[0;36mImageCollection._check_imgnum\u001B[0;34m(self, n)\u001B[0m\n\u001B[1;32m    348\u001B[0m     n \u001B[38;5;241m=\u001B[39m n \u001B[38;5;241m%\u001B[39m num\n\u001B[1;32m    349\u001B[0m \u001B[38;5;28;01melse\u001B[39;00m:\n\u001B[0;32m--> 350\u001B[0m     \u001B[38;5;28;01mraise\u001B[39;00m \u001B[38;5;167;01mIndexError\u001B[39;00m(\u001B[38;5;124mf\u001B[39m\u001B[38;5;124m\"\u001B[39m\u001B[38;5;124mThere are only \u001B[39m\u001B[38;5;132;01m{\u001B[39;00mnum\u001B[38;5;132;01m}\u001B[39;00m\u001B[38;5;124m images in the collection\u001B[39m\u001B[38;5;124m\"\u001B[39m)\n\u001B[1;32m    351\u001B[0m \u001B[38;5;28;01mreturn\u001B[39;00m n\n",
      "\u001B[0;31mIndexError\u001B[0m: There are only 0 images in the collection"
     ]
    }
   ],
   "source": [
    "from data_load import load_crop_images\n",
    "\n",
    "dataset = load_crop_images(PATH_IMAGENS,\n",
    "                           PATH_MASK,\n",
    "                           PATH_INDIVIDUAL) "
   ],
   "metadata": {
    "collapsed": false,
    "ExecuteTime": {
     "end_time": "2024-01-11T23:00:06.804713565Z",
     "start_time": "2024-01-11T23:00:05.900992324Z"
    }
   }
  },
  {
   "cell_type": "code",
   "execution_count": null,
   "outputs": [],
   "source": [
    "dataset.info()"
   ],
   "metadata": {
    "collapsed": false
   }
  },
  {
   "cell_type": "code",
   "outputs": [],
   "source": [
    "dataset['label']"
   ],
   "metadata": {
    "collapsed": false
   },
   "execution_count": null
  },
  {
   "cell_type": "code",
   "execution_count": null,
   "outputs": [],
   "source": [
    "print(\"Quantidade de recortes gerados: \", len(dataset))  # (34.192 128x128) # (12.016 256x256)"
   ],
   "metadata": {
    "collapsed": false
   }
  },
  {
   "cell_type": "code",
   "execution_count": null,
   "outputs": [],
   "source": [
    "from meanshift.plots import exibe2imagens\n",
    "\n",
    "imgs_ = np.random.choice(dataset.index, 5)\n",
    "for img_ in imgs_:\n",
    "    exibe2imagens((dataset.loc[img_, 'img']), dataset.loc[img_, 'mask'])"
   ],
   "metadata": {
    "collapsed": false
   }
  },
  {
   "cell_type": "code",
   "execution_count": null,
   "outputs": [],
   "source": [
    "\n",
    "from matplotlib import pyplot as plt\n",
    "from meanshift import aplicar_menshift_paralelo\n",
    "from multiprocessing import Pool\n",
    "\n",
    "pool = Pool(processes=100)\n",
    "imagens_meanshift2 = aplicar_menshift_paralelo(dataset['img'])\n",
    "pool.close()\n",
    "pool.join()\n",
    "\n",
    "# Exibição dos resultados\n",
    "plt.figure()\n",
    "plt.title('Segmentação após Mean Shift e Pós-processamento')\n",
    "plt.imshow(imagens_meanshift2[0], cmap='gray')\n",
    "plt.show()\n"
   ],
   "metadata": {
    "collapsed": false
   }
  },
  {
   "cell_type": "code",
   "execution_count": null,
   "outputs": [],
   "source": [
    "from validator import media_dice\n",
    "\n",
    "media_dice(imagens_meanshift2, dataset['mask'])\n"
   ],
   "metadata": {
    "collapsed": false
   }
  },
  {
   "cell_type": "code",
   "outputs": [],
   "source": [
    "dataset['mask'][0].shape"
   ],
   "metadata": {
    "collapsed": false
   },
   "execution_count": null
  },
  {
   "cell_type": "code",
   "outputs": [],
   "source": [
    "imagens_meanshift2[0].re"
   ],
   "metadata": {
    "collapsed": false
   },
   "execution_count": null
  },
  {
   "cell_type": "code",
   "outputs": [],
   "source": [
    "from skimage.io import imsave\n",
    "\n",
    "#save_imgs\n",
    "path = 'dataset/meanshift/predictions/negativo/'\n",
    "\n",
    "#create path\n",
    "import os\n",
    "if not os.path.exists(path):\n",
    "    os.makedirs(path)\n",
    "\n",
    "for i, img in enumerate(imagens_meanshift2):\n",
    "    plt.imsave(f'{path}/{i}.png', img, cmap='gray')\n",
    "    plt.imsave(f'{path}/{i}_mask.png', dataset['mask'][i].reshape(128,128), cmap='gray')"
   ],
   "metadata": {
    "collapsed": false
   },
   "execution_count": null
  },
  {
   "cell_type": "code",
   "outputs": [],
   "source": [
    "from skimage.color import rgb2gray\n",
    "\n",
    "img_gray = rgb2gray(dataset['img'][200])\n"
   ],
   "metadata": {
    "collapsed": false
   },
   "execution_count": null
  },
  {
   "cell_type": "code",
   "outputs": [],
   "source": [
    "img_gray"
   ],
   "metadata": {
    "collapsed": false
   },
   "execution_count": null
  },
  {
   "cell_type": "code",
   "outputs": [],
   "source": [
    "plt.imshow(img_gray, cmap='gray')"
   ],
   "metadata": {
    "collapsed": false
   },
   "execution_count": null
  },
  {
   "cell_type": "code",
   "outputs": [],
   "source": [
    "teste = imagens_meanshift2[200].copy()"
   ],
   "metadata": {
    "collapsed": false
   },
   "execution_count": null
  },
  {
   "cell_type": "code",
   "outputs": [],
   "source": [
    "img_gray.dtype\n",
    "teste = teste.astype(np.float64)"
   ],
   "metadata": {
    "collapsed": false
   },
   "execution_count": null
  },
  {
   "cell_type": "code",
   "outputs": [],
   "source": [
    "img_final = teste * img_gray"
   ],
   "metadata": {
    "collapsed": false
   },
   "execution_count": null
  },
  {
   "cell_type": "code",
   "outputs": [],
   "source": [
    "img_final.astype(np.uint8)"
   ],
   "metadata": {
    "collapsed": false
   },
   "execution_count": null
  },
  {
   "cell_type": "code",
   "outputs": [],
   "source": [
    "path = 'dataset/meanshift/predictions/positivo/final/'\n",
    "\n",
    "#create path\n",
    "import os\n",
    "if not os.path.exists(path):\n",
    "    os.makedirs(path)\n",
    "    \n",
    "plt.imshow(img_final, cmap='gray')"
   ],
   "metadata": {
    "collapsed": false
   },
   "execution_count": null
  },
  {
   "cell_type": "code",
   "outputs": [],
   "source": [
    "import numpy as np\n",
    "import tensorflow as tf\n",
    "from skimage.transform import resize\n",
    "\n",
    "def preprocess_image(image, target_size=(128, 128)):\n",
    "    # Redimensiona a imagem para o tamanho alvo\n",
    "    image = resize(image, target_size, anti_aliasing=True)\n",
    "\n",
    "    # Normaliza a imagem (exemplo: escala de 0 a 1)\n",
    "    image = image / 255.0\n",
    "\n",
    "    return image\n",
    "\n",
    "# Preprocessa todas as imagens originais e segmentadas\n",
    "processed_orig_images = np.array([preprocess_image(img) for img in dataset['img']])\n",
    "processed_segmented_images = np.array([preprocess_image(img) for img in imagens_meanshift2])"
   ],
   "metadata": {
    "collapsed": false
   }
  },
  {
   "cell_type": "code",
   "outputs": [],
   "source": [
    "# Verifica se as imagens estão em escala de cinza e as expande para terem 3 canais, se necessário\n",
    "if processed_orig_images.ndim < 4:\n",
    "    processed_orig_images = np.stack((processed_orig_images,)*3, axis=-1)\n",
    "\n",
    "if processed_segmented_images.ndim < 4:\n",
    "    processed_segmented_images = np.stack((processed_segmented_images,)*3, axis=-1)\n",
    "\n",
    "# Combina as imagens\n",
    "combined_images = np.concatenate((processed_orig_images, processed_segmented_images), axis=-1)\n"
   ],
   "metadata": {
    "collapsed": false
   }
  },
  {
   "cell_type": "code",
   "outputs": [],
   "source": [
    "plt.imshow(dataset['mask'][2], cmap='gray')"
   ],
   "metadata": {
    "collapsed": false
   },
   "execution_count": null
  },
  {
   "cell_type": "code",
   "execution_count": null,
   "outputs": [],
   "source": [
    "from plots import funcaoPlot\n",
    "\n",
    "funcaoPlot([dataset['img'][0], dataset['mask'][0], imagens_meanshift2[0]])"
   ],
   "metadata": {
    "collapsed": false
   }
  },
  {
   "cell_type": "code",
   "execution_count": null,
   "outputs": [],
   "source": [
    "funcaoPlot([dataset['img'][200], dataset['mask'][200], imagens_meanshift2[200]])"
   ],
   "metadata": {
    "collapsed": false
   }
  },
  {
   "cell_type": "code",
   "execution_count": null,
   "outputs": [],
   "source": [
    "funcaoPlot([dataset['img'][2000], dataset['mask'][2000], imagens_meanshift2[2000]])"
   ],
   "metadata": {
    "collapsed": false
   }
  },
  {
   "cell_type": "code",
   "execution_count": null,
   "outputs": [],
   "source": [
    "funcaoPlot([dataset['img'][20000], dataset['mask'][20000], imagens_meanshift2[20000]])"
   ],
   "metadata": {
    "collapsed": false
   }
  },
  {
   "cell_type": "code",
   "outputs": [],
   "source": [],
   "metadata": {
    "collapsed": false
   }
  }
 ],
 "metadata": {
  "kernelspec": {
   "display_name": "Python 3",
   "language": "python",
   "name": "python3"
  },
  "language_info": {
   "codemirror_mode": {
    "name": "ipython",
    "version": 3
   },
   "file_extension": ".py",
   "mimetype": "text/x-python",
   "name": "python",
   "nbconvert_exporter": "python",
   "pygments_lexer": "ipython3",
   "version": "3.8.5"
  }
 },
 "nbformat": 4,
 "nbformat_minor": 4
}
