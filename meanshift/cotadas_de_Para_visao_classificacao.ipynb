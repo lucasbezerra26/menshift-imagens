{
 "nbformat": 4,
 "nbformat_minor": 0,
 "metadata": {
  "kernelspec": {
   "name": "python3",
   "language": "python",
   "display_name": "Python 3 (ipykernel)"
  },
  "language_info": {
   "codemirror_mode": {
    "name": "ipython",
    "version": 3
   },
   "file_extension": ".py",
   "mimetype": "text/x-python",
   "name": "python",
   "nbconvert_exporter": "python",
   "pygments_lexer": "ipython3",
   "version": "3.7.3"
  },
  "colab": {
   "provenance": [],
   "machine_shape": "hm"
  },
  "accelerator": "GPU"
 },
 "cells": [
  {
   "cell_type": "code",
   "metadata": {
    "id": "VMKnntvGOmt3",
    "colab": {
     "base_uri": "https://localhost:8080/"
    },
    "outputId": "938fe0c4-6051-45b3-b5d2-c366ee23e65b"
   },
   "source": [
    "from google.colab import drive\n",
    "drive.mount('/content/drive')\n"
   ],
   "execution_count": 1,
   "outputs": [
    {
     "output_type": "stream",
     "name": "stdout",
     "text": [
      "Mounted at /content/drive\n"
     ]
    }
   ]
  },
  {
   "cell_type": "code",
   "outputs": [],
   "source": [
    "import os\n",
    "os.environ[\"CUDA_VISIBLE_DEVICES\"] = \"0\"\n",
    "# os.environ[\"CUDA_VISIBLE_DEVICES\"] = \"1\"\n",
    "# #QUAL GPU VOCÊ QUER USAR?\n",
    "GPU_GLOBAL = 0\n"
   ],
   "metadata": {
    "collapsed": false,
    "ExecuteTime": {
     "end_time": "2024-01-15T13:05:33.242146316Z",
     "start_time": "2024-01-15T13:05:33.238724465Z"
    }
   },
   "execution_count": 1
  },
  {
   "cell_type": "code",
   "metadata": {
    "id": "OPBhGbK2OvlS"
   },
   "source": [
    " import os\n",
    " os.chdir(\"drive/My Drive/visao-mestrado\")"
   ],
   "execution_count": 2,
   "outputs": []
  },
  {
   "cell_type": "code",
   "metadata": {
    "id": "bygtrJGsOwnx",
    "colab": {
     "base_uri": "https://localhost:8080/"
    },
    "outputId": "817dfe47-a957-4661-a952-bf4db690ef2d",
    "ExecuteTime": {
     "end_time": "2024-01-15T13:05:37.704618960Z",
     "start_time": "2024-01-15T13:05:35.471669659Z"
    }
   },
   "source": [
    "import tensorflow as tf\n"
   ],
   "execution_count": 2,
   "outputs": [
    {
     "name": "stderr",
     "output_type": "stream",
     "text": [
      "2024-01-15 10:05:35.717377: I tensorflow/core/platform/cpu_feature_guard.cc:182] This TensorFlow binary is optimized to use available CPU instructions in performance-critical operations.\n",
      "To enable the following instructions: SSE4.1 SSE4.2 AVX AVX2 AVX512F AVX512_VNNI FMA, in other operations, rebuild TensorFlow with the appropriate compiler flags.\n"
     ]
    }
   ]
  },
  {
   "cell_type": "code",
   "outputs": [
    {
     "name": "stdout",
     "output_type": "stream",
     "text": [
      "Retrieving notices: ...working... done\r\n",
      "Collecting package metadata (current_repodata.json): done\r\n",
      "Solving environment: unsuccessful initial attempt using frozen solve. Retrying with flexible solve.\r\n",
      "Solving environment: unsuccessful attempt using repodata from current_repodata.json, retrying with next repodata source.\r\n",
      "Collecting package metadata (repodata.json): done\r\n",
      "Solving environment: unsuccessful initial attempt using frozen solve. Retrying with flexible solve.\r\n",
      "Solving environment: \\ "
     ]
    }
   ],
   "source": [
    "#configure gpu \n",
    "!conda install tensorflow-gpu\n",
    "\n",
    "\n"
   ],
   "metadata": {
    "collapsed": false,
    "is_executing": true,
    "ExecuteTime": {
     "start_time": "2024-01-15T05:26:49.763524291Z"
    }
   }
  },
  {
   "cell_type": "code",
   "outputs": [
    {
     "name": "stdout",
     "output_type": "stream",
     "text": [
      "Num GPUs Available:  0\n"
     ]
    }
   ],
   "source": [
    "import tensorflow as tf\n",
    "\n",
    "print(\"Num GPUs Available: \", len(tf.config.list_physical_devices('GPU')))\n"
   ],
   "metadata": {
    "collapsed": false,
    "ExecuteTime": {
     "end_time": "2024-01-15T13:05:39.521605086Z",
     "start_time": "2024-01-15T13:05:39.517203591Z"
    }
   },
   "execution_count": 3
  },
  {
   "cell_type": "code",
   "outputs": [
    {
     "name": "stdout",
     "output_type": "stream",
     "text": [
      "[]\n"
     ]
    }
   ],
   "source": [
    "import tensorflow as tf\n",
    "\n",
    "gpus = tf.config.experimental.list_physical_devices('GPU')\n",
    "if gpus:\n",
    "    try:\n",
    "        # Substitua 0 pelo índice da GPU que deseja usar\n",
    "        tf.config.experimental.set_visible_devices(gpus[0], 'GPU')\n",
    "    except RuntimeError as e:\n",
    "        # Erro ao definir a GPU, geralmente devido a dispositivos já em uso\n",
    "        print(e)\n",
    "\n",
    "print(gpus)"
   ],
   "metadata": {
    "collapsed": false,
    "ExecuteTime": {
     "end_time": "2024-01-15T13:05:43.301908824Z",
     "start_time": "2024-01-15T13:05:43.294725842Z"
    }
   },
   "execution_count": 4
  },
  {
   "cell_type": "code",
   "source": [
    "\n",
    "# PATH_IMAGENS_N = 'menshift-imagens/dataset/lamina/4_divisao_deixar_apenas_uma_imagem_por_campo_de_lamina_SEM_ERROS/Negativo/*.jpg'\n",
    "# PATH_IMAGENS = 'menshift-imagens/dataset/lamina/4_divisao_deixar_apenas_uma_imagem_por_campo_de_lamina_SEM_ERROS/Positivo/*.jpg'\n",
    "\n",
    "\n",
    "PATH_IMAGENS_N = 'dataset/meanshift/predictions/negativo/novo/*recorte.png'\n",
    "PATH_IMAGENS = 'dataset/meanshift/predictions/positivo/novo/recorte*jpg*.png'\n"
   ],
   "metadata": {
    "id": "BHxD4Z96WhMy",
    "ExecuteTime": {
     "end_time": "2024-01-15T14:56:05.722187084Z",
     "start_time": "2024-01-15T14:56:05.668270084Z"
    }
   },
   "execution_count": 26,
   "outputs": []
  },
  {
   "cell_type": "code",
   "source": [
    "from skimage.io import imread_collection\n",
    "\n",
    "leshimania = imread_collection(PATH_IMAGENS)\n",
    "notleshimania = imread_collection(PATH_IMAGENS_N)"
   ],
   "metadata": {
    "id": "-hR-OVtw1Gu1",
    "ExecuteTime": {
     "end_time": "2024-01-15T14:56:06.125261662Z",
     "start_time": "2024-01-15T14:56:05.938645154Z"
    }
   },
   "execution_count": 27,
   "outputs": []
  },
  {
   "cell_type": "code",
   "source": [
    "!ls menshift-imagens/"
   ],
   "metadata": {
    "colab": {
     "base_uri": "https://localhost:8080/"
    },
    "id": "hgz1AfnPW-F0",
    "outputId": "0b36cc40-2ec2-4c99-e771-4075f4b7875e",
    "ExecuteTime": {
     "end_time": "2024-01-15T14:56:06.410787410Z",
     "start_time": "2024-01-15T14:56:06.261445306Z"
    }
   },
   "execution_count": 28,
   "outputs": [
    {
     "name": "stdout",
     "output_type": "stream",
     "text": [
      "ls: cannot access 'menshift-imagens/': No such file or directory\r\n"
     ]
    }
   ]
  },
  {
   "cell_type": "code",
   "source": [
    "len(leshimania)"
   ],
   "metadata": {
    "colab": {
     "base_uri": "https://localhost:8080/"
    },
    "id": "dDA-QXMvWHtX",
    "outputId": "d5bb2821-0982-4580-dc2c-e41fa02cde2a",
    "ExecuteTime": {
     "end_time": "2024-01-15T14:56:06.809588141Z",
     "start_time": "2024-01-15T14:56:06.802180650Z"
    }
   },
   "execution_count": 29,
   "outputs": [
    {
     "data": {
      "text/plain": "40178"
     },
     "execution_count": 29,
     "metadata": {},
     "output_type": "execute_result"
    }
   ]
  },
  {
   "cell_type": "code",
   "source": [
    "from skimage.transform import resize\n",
    "import numpy as np\n",
    "leshimania_resized = [np.array(resize(img,(224, 224))) for img in leshimania]\n",
    "notleshimania_resized = [np.array(resize(img,(224, 224))) for img in notleshimania]"
   ],
   "metadata": {
    "id": "7IjtR6B9YOuh",
    "is_executing": true
   },
   "execution_count": null,
   "outputs": []
  },
  {
   "cell_type": "code",
   "source": [
    "leshimania_resized = np.array(leshimania_resized)\n",
    "notleshimania_resized = np.array(notleshimania_resized)"
   ],
   "metadata": {
    "id": "DnulaKt2augF",
    "is_executing": true
   },
   "execution_count": null,
   "outputs": []
  },
  {
   "cell_type": "code",
   "source": [
    "EPOCHS = 125\n",
    "BATCH_SIZE = 8"
   ],
   "metadata": {
    "id": "U6SjXRFTbW7k",
    "is_executing": true
   },
   "execution_count": null,
   "outputs": []
  },
  {
   "cell_type": "code",
   "source": [
    "from matplotlib import pyplot as plt\n",
    "def funcaoPlot(imagens, title=None):\n",
    "    fig, ax = plt.subplots(1, len(imagens), figsize=(60, 60))\n",
    "    for i, folha in enumerate(imagens):\n",
    "        ax[i].imshow(folha, cmap=\"gray\")\n",
    "        if title:\n",
    "            ax[i].set_title(title[i])\n",
    "        else:\n",
    "            ax[i].set_title(str(i))"
   ],
   "metadata": {
    "id": "7tiV6LaFbYRJ",
    "is_executing": true
   },
   "execution_count": null,
   "outputs": []
  },
  {
   "cell_type": "code",
   "source": [
    "funcaoPlot(leshimania_resized[:10])"
   ],
   "metadata": {
    "colab": {
     "base_uri": "https://localhost:8080/",
     "height": 193
    },
    "id": "FrzSawJ2bfHf",
    "outputId": "37d6111c-5b06-4dff-82b5-164b50b3dab9",
    "is_executing": true
   },
   "execution_count": null,
   "outputs": []
  },
  {
   "cell_type": "code",
   "source": [
    "leshimania_label = np.ones(len(leshimania_resized))\n",
    "notleshimania_label = np.zeros(len(notleshimania_resized))"
   ],
   "metadata": {
    "id": "AGngU7syb2ik",
    "is_executing": true
   },
   "execution_count": null,
   "outputs": []
  },
  {
   "cell_type": "code",
   "source": [],
   "metadata": {
    "id": "slD_IUXOdWjP",
    "is_executing": true
   },
   "execution_count": null,
   "outputs": []
  },
  {
   "cell_type": "code",
   "source": [
    "from sklearn.model_selection import train_test_split\n",
    "\n",
    "X_train_true, X_test_true, y_train_true, y_test_true = train_test_split(leshimania_resized, leshimania_label, test_size=0.7, random_state=40)\n",
    "X_train_false, X_test_false, y_train_false, y_test_false = train_test_split(notleshimania_resized, notleshimania_label, test_size=0.7, random_state=40)\n",
    "\n",
    "X_train = np.concatenate((X_train_true,X_train_false), axis=0)\n",
    "X_test = np.concatenate((X_test_true,X_test_false), axis=0)\n",
    "y_train = np.concatenate((y_train_true,y_train_false), axis=0)\n",
    "y_test = np.concatenate((y_test_true,y_test_false), axis=0)"
   ],
   "metadata": {
    "id": "yy2NbSPkckqt",
    "is_executing": true
   },
   "execution_count": null,
   "outputs": []
  },
  {
   "cell_type": "code",
   "source": [
    "from keras.preprocessing.image import ImageDataGenerator\n",
    "train_generator = ImageDataGenerator().flow(X_train, y_train, batch_size=BATCH_SIZE)\n",
    "validation_generator = ImageDataGenerator().flow(X_test, y_test, batch_size=BATCH_SIZE)"
   ],
   "metadata": {
    "id": "TyxlW0Z5eEjO",
    "is_executing": true
   },
   "execution_count": null,
   "outputs": []
  },
  {
   "cell_type": "code",
   "source": [
    "funcaoPlot(X_train[:10])"
   ],
   "metadata": {
    "colab": {
     "base_uri": "https://localhost:8080/",
     "height": 193
    },
    "id": "MIkaw9MZdkOo",
    "outputId": "eb23ca7f-1991-45ae-8ef0-ddc79f9503a9",
    "is_executing": true
   },
   "execution_count": null,
   "outputs": []
  },
  {
   "cell_type": "code",
   "source": [
    "from keras.metrics import Precision, Recall, BinaryAccuracy\n",
    "from keras import backend as K\n",
    "\n",
    "# Função para calcular o F1-score\n",
    "def f1_score(precision, recall):\n",
    "    return 2 * ((precision * recall) / (precision + recall + K.epsilon()))\n"
   ],
   "metadata": {
    "id": "41GUGZDVDzxX",
    "is_executing": true
   },
   "execution_count": null,
   "outputs": []
  },
  {
   "cell_type": "code",
   "source": [
    "from keras.applications.vgg16 import VGG16\n",
    "from keras.models import Model\n",
    "from keras.layers import Dense, Flatten\n",
    "from keras.optimizers import Adam\n",
    "\n",
    "# Carregar a arquitetura VGG16 sem os pesos pré-treinados e sem as camadas superiores\n",
    "base_model = VGG16(weights=None, include_top=False, input_shape=(224, 224, 3))\n",
    "\n",
    "# Adicionar novas camadas para classificação\n",
    "x = base_model.output\n",
    "x = Flatten()(x)  # Achatar os outputs para um vetor\n",
    "x = Dense(1024, activation='relu')(x)  # Adicionar uma camada densa\n",
    "predictions = Dense(1, activation='sigmoid')(x)  # Camada de saída para classificação binária\n",
    "\n",
    "# Construir o modelo final\n",
    "model = Model(inputs=base_model.input, outputs=predictions)\n",
    "\n",
    "# Compilar o modelo\n",
    "model.compile(optimizer=Adam(learning_rate=0.0001), loss='binary_crossentropy',\n",
    "              metrics=[BinaryAccuracy(name='accuracy'), Precision(name='precision'), Recall(name='recall')])\n",
    "\n",
    "# Treinar o modelo\n",
    "history = model.fit(train_generator,\n",
    "                    steps_per_epoch=len(X_train) // BATCH_SIZE,\n",
    "                    epochs=EPOCHS,\n",
    "                    validation_data=validation_generator,\n",
    "                    validation_steps=len(X_test) // BATCH_SIZE)\n",
    "\n",
    "model.save('vgg16_img_grande_125_epocas_batch_8_zero.h5')\n",
    "\n",
    "\n",
    "# Plotar o gráfico de treinamento e validação\n",
    "plt.figure(figsize=(12, 4))\n",
    "plt.subplot(1, 2, 1)\n",
    "plt.plot(history.history['accuracy'], label='Accuracy')\n",
    "plt.plot(history.history['val_accuracy'], label='Validation Accuracy')\n",
    "plt.title('Accuracy over Epochs')\n",
    "plt.legend()\n",
    "plt.subplot(1, 2, 2)\n",
    "plt.plot(history.history['loss'], label='Loss')\n",
    "plt.plot(history.history['val_loss'], label='Validation Loss')\n",
    "plt.title('Loss over Epochs')\n",
    "plt.legend()\n",
    "plt.show()\n",
    "\n",
    "# Avaliar o modelo com o conjunto de teste\n",
    "val_loss, val_accuracy, val_precision, val_recall = model.evaluate(X_test, y_test)\n",
    "\n",
    "# Calculando o F1-score\n",
    "val_f1 = f1_score(val_precision, val_recall)\n",
    "\n",
    "print(f\"Validation Loss: {val_loss}\")\n",
    "print(f\"Validation Accuracy: {val_accuracy}\")\n",
    "print(f\"Validation Precision: {val_precision}\")\n",
    "print(f\"Validation Recall: {val_recall}\")\n",
    "print(f\"Validation F1-Score: {val_f1}\")"
   ],
   "metadata": {
    "colab": {
     "base_uri": "https://localhost:8080/",
     "height": 1000
    },
    "id": "CNSORCjWdqks",
    "outputId": "a4cee11e-5b01-49a9-fe4f-c8360554672f",
    "is_executing": true
   },
   "execution_count": null,
   "outputs": []
  },
  {
   "cell_type": "code",
   "source": [],
   "metadata": {
    "id": "TC03SyLW_Fcy",
    "is_executing": true
   },
   "execution_count": null,
   "outputs": []
  },
  {
   "cell_type": "markdown",
   "source": [
    "Tranferencia de apredizagem:"
   ],
   "metadata": {
    "id": "aqlDsXQN_HbT"
   }
  },
  {
   "cell_type": "code",
   "source": [
    "from keras.applications import VGG16\n",
    "from keras.layers import Dense, GlobalAveragePooling2D\n",
    "from keras.models import Model\n",
    "from keras.optimizers import Adam\n",
    "\n",
    "\n",
    "# Carregar a arquitetura VGG16 sem os pesos pré-treinados e sem as camadas superiores\n",
    "base_model = VGG16(weights='imagenet', include_top=False, input_shape=(224, 224, 3))\n",
    "\n",
    "# Congelar as camadas da VGG16\n",
    "for layer in base_model.layers:\n",
    "    layer.trainable = False\n",
    "\n",
    "# Adicionar novas camadas para classificação\n",
    "x = base_model.output\n",
    "x = Flatten()(x)  # Achatar os outputs para um vetor\n",
    "x = Dense(1024, activation='relu')(x)  # Adicionar uma camada densa\n",
    "predictions = Dense(1, activation='sigmoid')(x)  # Camada de saída para classificação binária\n",
    "\n",
    "\n",
    "# Adicionar as camadas personalizadas sobre a base da VGG16\n",
    "x = base_model.output\n",
    "x = GlobalAveragePooling2D()(x)\n",
    "x = Dense(1024, activation='relu')(x)  # Nova camada FC e ReLU\n",
    "predictions = Dense(1, activation='sigmoid')(x)  # Nova camada de saída para classificação binária\n",
    "\n",
    "# Montar o modelo final\n",
    "model = Model(inputs=base_model.input, outputs=predictions)\n",
    "\n",
    "model.compile(optimizer=Adam(learning_rate=0.0001), loss='binary_crossentropy',\n",
    "                  metrics=[BinaryAccuracy(name='accuracy'), Precision(name='precision'), Recall(name='recall')]\n",
    ")\n",
    "\n",
    "# Treinar o modelo\n",
    "history = model.fit(train_generator,\n",
    "                    steps_per_epoch=len(X_train) // BATCH_SIZE,\n",
    "                    epochs=EPOCHS,\n",
    "                    validation_data=validation_generator,\n",
    "                    validation_steps=len(X_test) // BATCH_SIZE)\n",
    "\n",
    "model.save('vgg16_img_grande_125_epocas_batch_8_tranfer.h5')\n",
    "\n",
    "# Plotar o gráfico de treinamento e validação\n",
    "plt.figure(figsize=(12, 4))\n",
    "plt.subplot(1, 2, 1)\n",
    "plt.plot(history.history['accuracy'], label='Accuracy')\n",
    "plt.plot(history.history['val_accuracy'], label='Validation Accuracy')\n",
    "plt.title('Accuracy over Epochs')\n",
    "plt.legend()\n",
    "plt.subplot(1, 2, 2)\n",
    "plt.plot(history.history['loss'], label='Loss')\n",
    "plt.plot(history.history['val_loss'], label='Validation Loss')\n",
    "plt.title('Loss over Epochs')\n",
    "plt.legend()\n",
    "plt.show()\n",
    "\n",
    "# Avaliar o modelo com o conjunto de teste\n",
    "val_loss, val_accuracy, val_precision, val_recall = model.evaluate(X_test, y_test)\n",
    "\n",
    "# Calculando o F1-score\n",
    "val_f1 = f1_score(val_precision, val_recall)\n",
    "\n",
    "print(f\"Validation Loss: {val_loss}\")\n",
    "print(f\"Validation Accuracy: {val_accuracy}\")\n",
    "print(f\"Validation Precision: {val_precision}\")\n",
    "print(f\"Validation Recall: {val_recall}\")\n",
    "print(f\"Validation F1-Score: {val_f1}\")"
   ],
   "metadata": {
    "colab": {
     "base_uri": "https://localhost:8080/",
     "height": 1000
    },
    "id": "7269EBLw7nWN",
    "outputId": "0aca5dc7-8203-4031-fa16-cd6d6f382718",
    "is_executing": true
   },
   "execution_count": null,
   "outputs": []
  },
  {
   "cell_type": "markdown",
   "source": [
    "##Fine Tuning"
   ],
   "metadata": {
    "id": "FAKFRJy87pIs"
   }
  },
  {
   "cell_type": "code",
   "source": [
    "# Descongelar todas as camadas da VGG16 para fine-tuning\n",
    "for layer in base_model.layers:\n",
    "    layer.trainable = True\n",
    "\n",
    "# Recompile o modelo com uma taxa de aprendizado menor\n",
    "model.compile(optimizer=Adam(learning_rate=0.00001), loss='binary_crossentropy',     metrics=[BinaryAccuracy(name='accuracy'), Precision(name='precision'), Recall(name='recall')])\n",
    "\n",
    "\n",
    "# Treinar o modelo\n",
    "history = model.fit(train_generator,\n",
    "                    steps_per_epoch=len(X_train) // BATCH_SIZE,\n",
    "                    epochs=EPOCHS,\n",
    "                    validation_data=validation_generator,\n",
    "                    validation_steps=len(X_test) // BATCH_SIZE)\n",
    "\n",
    "model.save('vgg16_img_grande_125_epocas_batch_8_fine_turning.h5')\n",
    "\n",
    "# Plotar o gráfico de treinamento e validação\n",
    "plt.figure(figsize=(12, 4))\n",
    "plt.subplot(1, 2, 1)\n",
    "plt.plot(history.history['accuracy'], label='Accuracy')\n",
    "plt.plot(history.history['val_accuracy'], label='Validation Accuracy')\n",
    "plt.title('Accuracy over Epochs')\n",
    "plt.legend()\n",
    "plt.subplot(1, 2, 2)\n",
    "plt.plot(history.history['loss'], label='Loss')\n",
    "plt.plot(history.history['val_loss'], label='Validation Loss')\n",
    "plt.title('Loss over Epochs')\n",
    "plt.legend()\n",
    "plt.show()\n",
    "\n",
    "# Avaliar o modelo com o conjunto de teste\n",
    "val_loss, val_accuracy, val_precision, val_recall = model.evaluate(X_test, y_test)\n",
    "\n",
    "# Calculando o F1-score\n",
    "val_f1 = f1_score(val_precision, val_recall)\n",
    "\n",
    "print(f\"Validation Loss: {val_loss}\")\n",
    "print(f\"Validation Accuracy: {val_accuracy}\")\n",
    "print(f\"Validation Precision: {val_precision}\")\n",
    "print(f\"Validation Recall: {val_recall}\")\n",
    "print(f\"Validation F1-Score: {val_f1}\")"
   ],
   "metadata": {
    "colab": {
     "base_uri": "https://localhost:8080/",
     "height": 1000
    },
    "id": "uC1HkSWz7sWM",
    "outputId": "f594d5f3-3131-4a0a-d404-759e9f2c314e",
    "is_executing": true
   },
   "execution_count": null,
   "outputs": []
  },
  {
   "cell_type": "code",
   "source": [
    "from keras.metrics import BinaryAccuracy, Precision, Recall\n",
    "from keras.callbacks import EarlyStopping, ModelCheckpoint\n",
    "# Descongelar todas as camadas da VGG16 para fine-tuning\n",
    "for layer in base_model.layers:\n",
    "    layer.trainable = True\n",
    "\n",
    "# Recompile o modelo com uma taxa de aprendizado menor\n",
    "model.compile(optimizer=Adam(learning_rate=0.00001), loss='binary_crossentropy',     metrics=[BinaryAccuracy(name='accuracy'), Precision(name='precision'), Recall(name='recall')])\n",
    "\n",
    "\n",
    "# Treinar o modelo\n",
    "early_stopping = EarlyStopping(monitor='val_loss', patience=10, verbose=1, mode='min')\n",
    "model_checkpoint = ModelCheckpoint(filepath='melhor_modelo_fine_tuning.h5', save_best_only=True, monitor='val_loss', mode='min')\n",
    "\n",
    "# Adicionar os callbacks no método fit\n",
    "history = model.fit(\n",
    "    train_generator,\n",
    "    steps_per_epoch=len(X_train) // BATCH_SIZE,\n",
    "    epochs=EPOCHS,\n",
    "    validation_data=validation_generator,\n",
    "    validation_steps=len(X_test) // BATCH_SIZE,\n",
    "    callbacks=[early_stopping, model_checkpoint]\n",
    ")\n",
    "\n",
    "model.save('vgg16_img_grande_125_epocas_batch_8_fine_turning.h5')\n",
    "\n",
    "# Plotar o gráfico de treinamento e validação\n",
    "plt.figure(figsize=(12, 4))\n",
    "plt.subplot(1, 2, 1)\n",
    "plt.plot(history.history['accuracy'], label='Accuracy')\n",
    "plt.plot(history.history['val_accuracy'], label='Validation Accuracy')\n",
    "plt.title('Accuracy over Epochs')\n",
    "plt.legend()\n",
    "plt.subplot(1, 2, 2)\n",
    "plt.plot(history.history['loss'], label='Loss')\n",
    "plt.plot(history.history['val_loss'], label='Validation Loss')\n",
    "plt.title('Loss over Epochs')\n",
    "plt.legend()\n",
    "plt.show()\n",
    "\n",
    "# Avaliar o modelo com o conjunto de teste\n",
    "val_loss, val_accuracy, val_precision, val_recall = model.evaluate(X_test, y_test)\n",
    "\n",
    "# Calculando o F1-score\n",
    "val_f1 = f1_score(val_precision, val_recall)\n",
    "\n",
    "print(f\"Validation Loss: {val_loss}\")\n",
    "print(f\"Validation Accuracy: {val_accuracy}\")\n",
    "print(f\"Validation Precision: {val_precision}\")\n",
    "print(f\"Validation Recall: {val_recall}\")\n",
    "print(f\"Validation F1-Score: {val_f1}\")"
   ],
   "metadata": {
    "colab": {
     "base_uri": "https://localhost:8080/",
     "height": 1000
    },
    "id": "W_5nnnZ_EwTQ",
    "outputId": "9671d075-54e4-4f20-f701-878a4be4d54a",
    "is_executing": true
   },
   "execution_count": null,
   "outputs": []
  },
  {
   "cell_type": "code",
   "outputs": [],
   "source": [],
   "metadata": {
    "collapsed": false,
    "is_executing": true
   }
  },
  {
   "cell_type": "code",
   "outputs": [],
   "source": [],
   "metadata": {
    "collapsed": false,
    "is_executing": true
   }
  },
  {
   "cell_type": "code",
   "outputs": [],
   "source": [],
   "metadata": {
    "collapsed": false,
    "is_executing": true
   }
  },
  {
   "cell_type": "code",
   "outputs": [],
   "source": [],
   "metadata": {
    "collapsed": false,
    "is_executing": true
   }
  },
  {
   "cell_type": "code",
   "outputs": [],
   "source": [],
   "metadata": {
    "collapsed": false,
    "is_executing": true
   }
  },
  {
   "cell_type": "code",
   "outputs": [],
   "source": [],
   "metadata": {
    "collapsed": false,
    "is_executing": true
   }
  },
  {
   "cell_type": "code",
   "outputs": [],
   "source": [],
   "metadata": {
    "collapsed": false,
    "is_executing": true
   }
  },
  {
   "cell_type": "code",
   "outputs": [],
   "source": [],
   "metadata": {
    "collapsed": false,
    "is_executing": true
   }
  },
  {
   "cell_type": "code",
   "outputs": [],
   "source": [],
   "metadata": {
    "collapsed": false,
    "is_executing": true
   }
  },
  {
   "cell_type": "code",
   "outputs": [],
   "source": [],
   "metadata": {
    "collapsed": false,
    "is_executing": true
   }
  },
  {
   "cell_type": "code",
   "outputs": [],
   "source": [],
   "metadata": {
    "collapsed": false,
    "is_executing": true
   }
  },
  {
   "cell_type": "code",
   "outputs": [],
   "source": [],
   "metadata": {
    "collapsed": false,
    "is_executing": true
   }
  },
  {
   "cell_type": "code",
   "outputs": [],
   "source": [],
   "metadata": {
    "collapsed": false,
    "is_executing": true
   }
  },
  {
   "cell_type": "code",
   "outputs": [],
   "source": [],
   "metadata": {
    "collapsed": false,
    "is_executing": true
   }
  },
  {
   "cell_type": "code",
   "outputs": [],
   "source": [],
   "metadata": {
    "collapsed": false,
    "is_executing": true
   }
  },
  {
   "cell_type": "code",
   "outputs": [],
   "source": [],
   "metadata": {
    "collapsed": false,
    "is_executing": true
   }
  },
  {
   "cell_type": "code",
   "outputs": [],
   "source": [],
   "metadata": {
    "collapsed": false,
    "is_executing": true
   }
  },
  {
   "cell_type": "code",
   "outputs": [],
   "source": [],
   "metadata": {
    "collapsed": false,
    "is_executing": true
   }
  },
  {
   "cell_type": "code",
   "outputs": [],
   "source": [],
   "metadata": {
    "collapsed": false,
    "is_executing": true
   }
  },
  {
   "cell_type": "code",
   "outputs": [],
   "source": [],
   "metadata": {
    "collapsed": false,
    "is_executing": true
   }
  },
  {
   "cell_type": "code",
   "outputs": [],
   "source": [],
   "metadata": {
    "collapsed": false,
    "is_executing": true
   }
  },
  {
   "cell_type": "code",
   "outputs": [],
   "source": [],
   "metadata": {
    "collapsed": false,
    "is_executing": true
   }
  },
  {
   "cell_type": "code",
   "outputs": [],
   "source": [],
   "metadata": {
    "collapsed": false,
    "is_executing": true
   }
  },
  {
   "cell_type": "code",
   "outputs": [],
   "source": [],
   "metadata": {
    "collapsed": false,
    "is_executing": true
   }
  },
  {
   "cell_type": "code",
   "outputs": [],
   "source": [],
   "metadata": {
    "collapsed": false
   }
  }
 ]
}
